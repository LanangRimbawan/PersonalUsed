In [1]:
# Import library yang diperlukan di sini
from urllib.request import urlopen
from urllib.error import HTTPError
from urllib.error import URLError
from bs4 import BeautifulSoup
from collections import Counter
In [2]:
url = {'url1': 'http://www.pythonscraping.com/pages/page1.html',
       'url2': 'http://www.pythonscraping.com/pages/warandpeace.html',
       'url3': 'http://www.pythonscraping.com/pages/page3.html'}
In [3]:
def read_html(url):
    """ 
    url         : Website URL yang akan di-parsing
    html_parser : Tipe HTML parser yang akan digunakan
    """
    try:
        html = urlopen(url)
        bsObj = BeautifulSoup(html.read(), 'html.parser') 
    except HTTPError as e:
        print('The server returned an HTTP error') 
    except URLError as e:
        print('The server could not be found!') 
    except AttributeError as e:
        return None
    
    return bsObj
In [4]:
obj = read_html(url['url2'])
nameList = obj.findAll('span', {'class': 'green'}) # Scraping all text in tag span, with class='green'

# Simpan text di dalam sebuah list 'namelist'
namelist = [ln.get_text() for ln in nameList]

# Dari list tersebut kemudian ambil text yang bersifat unik saja
uniquename = []        
uniq = list(map(lambda st: str.replace(st, 'the prince', "The prince"), namelist))
uniq = [item for items, c in Counter(uniq).most_common() for item in [items] * c]

for x in uniq:
    if x not in uniquename:
        uniquename.append(x)

print(namelist[:3])
print(uniquename[:3])

# Output yang seharusnya:
# ['Anna\nPavlovna Scherer', 'Empress Marya\nFedorovna', 'Prince Vasili Kuragin']
# ['The prince', 'Anna Pavlovna', 'the Empress']
['Anna\nPavlovna Scherer', 'Empress Marya\nFedorovna', 'Prince Vasili Kuragin']
['The prince', 'Anna Pavlovna', 'the Empress']
In [5]:
# Hapus karakter "\n" yang terdapat di dalam 'namelist'
namelist = list(map(lambda st: str.replace(st, '\n', " "), namelist))

print(namelist[:3])

# Output yang seharusnya:
# ['Anna Pavlovna Scherer', 'Empress Marya Fedorovna', 'Prince Vasili Kuragin']
['Anna Pavlovna Scherer', 'Empress Marya Fedorovna', 'Prince Vasili Kuragin']
In [6]:
# Di dalam objek 'uniquename', print nama yang panjangnya tidak lebih dari 8 karakter
filtered = uniquename
result_list = list(filter(lambda we: len(we) < 8, filtered))[::-1]
print(result_list)
    
# Output yang seharusnya:
# ['Anatole', 'Rohans']
['Anatole', 'Rohans']